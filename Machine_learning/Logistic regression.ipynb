{
 "cells": [
  {
   "cell_type": "markdown",
   "metadata": {},
   "source": [
    "# Supervised Learning"
   ]
  },
  {
   "cell_type": "markdown",
   "metadata": {},
   "source": [
    "## 1) Regression"
   ]
  },
  {
   "cell_type": "markdown",
   "metadata": {},
   "source": [
    "### 1-1) Linear Regression from scratch"
   ]
  },
  {
   "cell_type": "code",
   "execution_count": 3,
   "metadata": {},
   "outputs": [
    {
     "name": "stderr",
     "output_type": "stream",
     "text": [
      "UsageError: Line magic function `%` not found.\n"
     ]
    }
   ],
   "source": [
    "import numpy as np\n",
    "from matplotlib import pyplot as plt\n",
    "% matplotlib inline"
   ]
  },
  {
   "cell_type": "markdown",
   "metadata": {},
   "source": [
    "# Step 1. Data Creation"
   ]
  },
  {
   "cell_type": "markdown",
   "metadata": {},
   "source": [
    "## data ( height and weight of  adults and children)"
   ]
  },
  {
   "cell_type": "code",
   "execution_count": 4,
   "metadata": {},
   "outputs": [
    {
     "name": "stdout",
     "output_type": "stream",
     "text": [
      "(100, 2)\n",
      "[[ 68.29432281 169.55208976]\n",
      " [ 72.74164863 175.078398  ]\n",
      " [ 65.96721103 172.1575828 ]\n",
      " [ 77.84162223 174.39673656]\n",
      " [ 73.17358647 177.52944653]]\n"
     ]
    }
   ],
   "source": [
    "adult_height = np.random.normal(175, 5, [100, 1])\n",
    "adult_weight = np.random.normal(70, 5, [100, 1])\n",
    "\n",
    "adult_dataset = np.concatenate( (adult_weight, adult_height) , axis = 1)\n",
    "\n",
    "print(adult_dataset.shape)\n",
    "print(adult_dataset[:5])"
   ]
  },
  {
   "cell_type": "code",
   "execution_count": 5,
   "metadata": {},
   "outputs": [
    {
     "name": "stdout",
     "output_type": "stream",
     "text": [
      "(100, 2)\n",
      "[[ 36.5712314  121.18496852]\n",
      " [ 26.50649838 107.32620094]\n",
      " [ 33.80186572 118.76016652]\n",
      " [ 36.98195635 112.48324651]\n",
      " [ 33.60231052 114.57939079]]\n"
     ]
    }
   ],
   "source": [
    "child_height = np.random.normal(120, 5, [100, 1])\n",
    "child_weight = np.random.normal(30, 5, [100, 1])\n",
    "\n",
    "child_dataset = np.concatenate( (child_weight, child_height) , axis = 1)\n",
    "\n",
    "print(child_dataset.shape)\n",
    "print(child_dataset[:5])"
   ]
  },
  {
   "cell_type": "code",
   "execution_count": 21,
   "metadata": {},
   "outputs": [
    {
     "data": {
      "image/png": "[encoded data removed]",
      "text/plain": [
       "<Figure size 432x288 with 1 Axes>"
      ]
     },
     "metadata": {
      "needs_background": "light"
     },
     "output_type": "display_data"
    }
   ],
   "source": [
    "fig = plt.figure()\n",
    "ax1 = fig.add_subplot(111)\n",
    "ax1.scatter(adult_dataset[:,0], adult_dataset[:,1], c=np.array([(1, 1, 0)]))\n",
    "ax1.scatter(child_dataset[:,0], child_dataset[:,1], c=np.array([(0, 1, 0)]))\n",
    "plt.show()"
   ]
  },
  {
   "cell_type": "markdown",
   "metadata": {},
   "source": [
    "## Label"
   ]
  },
  {
   "cell_type": "code",
   "execution_count": 7,
   "metadata": {},
   "outputs": [
    {
     "name": "stdout",
     "output_type": "stream",
     "text": [
      "label의 shape (200, 1)\n",
      "[[1.]\n",
      " [1.]\n",
      " [1.]\n",
      " [1.]\n",
      " [1.]\n",
      " [1.]\n",
      " [1.]\n",
      " [1.]\n",
      " [1.]\n",
      " [1.]]\n"
     ]
    }
   ],
   "source": [
    "adult_label = np.ones( shape=[100, 1] )\n",
    "child_label = np.zeros( shape=[100, 1] )\n",
    "label = np.concatenate( (adult_label, child_label) )\n",
    "print('label의 shape' , label.shape)\n",
    "print(label[:10])"
   ]
  },
  {
   "cell_type": "markdown",
   "metadata": {},
   "source": [
    "## Data + Label"
   ]
  },
  {
   "cell_type": "code",
   "execution_count": 13,
   "metadata": {},
   "outputs": [
    {
     "name": "stdout",
     "output_type": "stream",
     "text": [
      "[[ 71.23358781 176.35299554   1.        ]\n",
      " [ 64.72443802 175.49777249   1.        ]\n",
      " [ 73.55961005 163.55555775   1.        ]\n",
      " [ 72.64748604 177.20415356   1.        ]\n",
      " [ 29.10913482  99.65531271   0.        ]\n",
      " [ 29.80469741 115.62823148   0.        ]\n",
      " [ 37.26624207 113.30655977   0.        ]\n",
      " [ 37.80501235 122.80780869   0.        ]\n",
      " [ 77.84162223 174.39673656   1.        ]\n",
      " [ 33.01973945 122.31792307   0.        ]]\n",
      "(200, 3)\n"
     ]
    }
   ],
   "source": [
    "total_dataset = np.concatenate((adult_dataset , child_dataset))\n",
    "total_dataset = np.concatenate( (total_dataset, label), axis = 1  )\n",
    "\n",
    "np.random.shuffle(total_dataset) # Shuffle dataset\n",
    "print(total_dataset[:10])\n",
    "print(total_dataset.shape)"
   ]
  },
  {
   "cell_type": "markdown",
   "metadata": {},
   "source": [
    "## simple scaling of dataset"
   ]
  },
  {
   "cell_type": "code",
   "execution_count": 14,
   "metadata": {},
   "outputs": [],
   "source": [
    "weight_mean= total_dataset[:, 0].mean()\n",
    "height_mean= total_dataset[:, 1].mean()\n",
    "total_dataset[:, 0] /= weight_mean\n",
    "total_dataset[:, 1] /= height_mean"
   ]
  },
  {
   "cell_type": "code",
   "execution_count": 16,
   "metadata": {},
   "outputs": [
    {
     "data": {
      "image/png": "[encoded data removed]",
      "text/plain": [
       "<Figure size 432x288 with 1 Axes>"
      ]
     },
     "metadata": {
      "needs_background": "light"
     },
     "output_type": "display_data"
    }
   ],
   "source": [
    "total_dataset.shape\n",
    "\n",
    "fig = plt.figure()\n",
    "ax1 = fig.add_subplot(111)\n",
    "color = [(1*i, 1, 0) for i in total_dataset[:,2] ]\n",
    "ax1.scatter(total_dataset[:,0], total_dataset[:,1], c = color)\n",
    "plt.show()"
   ]
  },
  {
   "cell_type": "markdown",
   "metadata": {},
   "source": [
    "# Step 2. Model definition"
   ]
  },
  {
   "cell_type": "code",
   "execution_count": null,
   "metadata": {},
   "outputs": [],
   "source": [
    "def hypothesis(x, w, b):\n",
    "    pred = np.dot(x, w) + b\n",
    "    return pred"
   ]
  },
  {
   "cell_type": "code",
   "execution_count": null,
   "metadata": {},
   "outputs": [],
   "source": [
    "def cost(x, w, b, y):\n",
    "    loss = \n",
    "    \n",
    "    loss = 1/2*(hypothesis(x, w, b) - y)**2 # loss = 1/2(h(x) - y)^2\n",
    "    cost = 1/100*np.sum(loss, axis=1, keepdims=True) # cost = mean of batch losses\n",
    "    return cost"
   ]
  },
  {
   "cell_type": "code",
   "execution_count": null,
   "metadata": {},
   "outputs": [],
   "source": [
    "def derivative(x, w, b, y):\n",
    "    dw = (1/100*np.dot(x, (hypothesis(x, w, b) - y).T))[0][0] # d(cost)/dw =  (h(x) - y)(h(x))' = (h(x) - y)*x\n",
    "    db = 1/100*np.sum(hypothesis(x, w, b) - y) # d(cost)/db = (h(x) - y)(h(x))' = (h(x) -y)\n",
    "    return dw, db"
   ]
  },
  {
   "cell_type": "code",
   "execution_count": null,
   "metadata": {},
   "outputs": [],
   "source": [
    "def update(x, w, b, y, alpha):\n",
    "    w = w - alpha*(derivative(x, w, b, y)[0]) # w := w + alpha * dw\n",
    "    b = b - alpha*(derivative(x, w, b, y)[1]) # b := b + alpha * db\n",
    "    return w, b"
   ]
  },
  {
   "cell_type": "code",
   "execution_count": null,
   "metadata": {},
   "outputs": [],
   "source": []
  },
  {
   "cell_type": "code",
   "execution_count": null,
   "metadata": {},
   "outputs": [],
   "source": []
  },
  {
   "cell_type": "code",
   "execution_count": null,
   "metadata": {},
   "outputs": [],
   "source": []
  },
  {
   "cell_type": "code",
   "execution_count": null,
   "metadata": {},
   "outputs": [],
   "source": []
  },
  {
   "cell_type": "code",
   "execution_count": null,
   "metadata": {},
   "outputs": [],
   "source": []
  },
  {
   "cell_type": "code",
   "execution_count": null,
   "metadata": {},
   "outputs": [],
   "source": []
  },
  {
   "cell_type": "code",
   "execution_count": null,
   "metadata": {},
   "outputs": [],
   "source": []
  },
  {
   "cell_type": "code",
   "execution_count": null,
   "metadata": {},
   "outputs": [],
   "source": []
  }
 ],
 "metadata": {
  "kernelspec": {
   "display_name": "tf",
   "language": "python",
   "name": "tf"
  },
  "language_info": {
   "codemirror_mode": {
    "name": "ipython",
    "version": 3
   },
   "file_extension": ".py",
   "mimetype": "text/x-python",
   "name": "python",
   "nbconvert_exporter": "python",
   "pygments_lexer": "ipython3",
   "version": "3.5.2"
  }
 },
 "nbformat": 4,
 "nbformat_minor": 2
}
