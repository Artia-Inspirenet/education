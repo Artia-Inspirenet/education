{
 "cells": [
  {
   "cell_type": "markdown",
   "metadata": {},
   "source": [
    "# Supervised Learning"
   ]
  },
  {
   "cell_type": "markdown",
   "metadata": {},
   "source": [
    "## 1) Regression"
   ]
  },
  {
   "cell_type": "markdown",
   "metadata": {},
   "source": [
    "### 1-1) Linear Regression from scratch"
   ]
  },
  {
   "cell_type": "code",
   "execution_count": 3,
   "metadata": {},
   "outputs": [
    {
     "name": "stderr",
     "output_type": "stream",
     "text": [
      "UsageError: Line magic function `%` not found.\n"
     ]
    }
   ],
   "source": [
    "import numpy as np\n",
    "from matplotlib import pyplot as plt\n",
    "% matplotlib inline"
   ]
  },
  {
   "cell_type": "markdown",
   "metadata": {},
   "source": [
    "# Step 1. Data Creation"
   ]
  },
  {
   "cell_type": "markdown",
   "metadata": {},
   "source": [
    "## data ( height and weight of  adults and children)"
   ]
  },
  {
   "cell_type": "code",
   "execution_count": 32,
   "metadata": {},
   "outputs": [
    {
     "data": {
      "text/plain": [
       "0.01"
      ]
     },
     "execution_count": 32,
     "metadata": {},
     "output_type": "execute_result"
    }
   ],
   "source": [
    "m = 100\n",
    "1/m "
   ]
  },
  {
   "cell_type": "code",
   "execution_count": 4,
   "metadata": {},
   "outputs": [
    {
     "name": "stdout",
     "output_type": "stream",
     "text": [
      "(100, 2)\n",
      "[[ 75.18681813 172.03639277]\n",
      " [ 70.83857516 166.93688604]\n",
      " [ 69.73844123 177.57417861]\n",
      " [ 74.67354661 182.93296724]\n",
      " [ 71.56396679 179.19935786]]\n"
     ]
    }
   ],
   "source": [
    "adult_height = np.random.normal(175, 5, [m, 1])\n",
    "adult_weight = np.random.normal(70, 5, [m, 1])\n",
    "\n",
    "adult_dataset = np.concatenate( (adult_weight, adult_height) , axis = 1)\n",
    "\n",
    "print(adult_dataset.shape)\n",
    "print(adult_dataset[:5])"
   ]
  },
  {
   "cell_type": "code",
   "execution_count": 5,
   "metadata": {},
   "outputs": [
    {
     "name": "stdout",
     "output_type": "stream",
     "text": [
      "(100, 2)\n",
      "[[ 24.70852054 130.18915659]\n",
      " [ 30.5073394  118.63774692]\n",
      " [ 29.10874283 115.64305723]\n",
      " [ 23.39564788 115.62491189]\n",
      " [ 34.38205601 122.49338784]]\n"
     ]
    }
   ],
   "source": [
    "child_height = np.random.normal(120, 5, [m, 1])\n",
    "child_weight = np.random.normal(30, 5, [m, 1])\n",
    "\n",
    "child_dataset = np.concatenate( (child_weight, child_height) , axis = 1)\n",
    "\n",
    "print(child_dataset.shape)\n",
    "print(child_dataset[:5])"
   ]
  },
  {
   "cell_type": "code",
   "execution_count": 6,
   "metadata": {},
   "outputs": [
    {
     "data": {
      "image/png": "[encoded data removed]",
      "text/plain": [
       "<Figure size 432x288 with 1 Axes>"
      ]
     },
     "metadata": {
      "needs_background": "light"
     },
     "output_type": "display_data"
    }
   ],
   "source": [
    "fig = plt.figure()\n",
    "ax1 = fig.add_subplot(111)\n",
    "ax1.scatter(adult_dataset[:,0], adult_dataset[:,1], c=np.array([(1, 1, 0)]))\n",
    "ax1.scatter(child_dataset[:,0], child_dataset[:,1], c=np.array([(0, 1, 0)]))\n",
    "plt.show()"
   ]
  },
  {
   "cell_type": "markdown",
   "metadata": {},
   "source": [
    "## Label"
   ]
  },
  {
   "cell_type": "code",
   "execution_count": 7,
   "metadata": {},
   "outputs": [
    {
     "name": "stdout",
     "output_type": "stream",
     "text": [
      "label의 shape (200, 1)\n",
      "[[1.]\n",
      " [1.]\n",
      " [1.]\n",
      " [1.]\n",
      " [1.]\n",
      " [1.]\n",
      " [1.]\n",
      " [1.]\n",
      " [1.]\n",
      " [1.]]\n"
     ]
    }
   ],
   "source": [
    "adult_label = np.ones( shape=[m, 1] )\n",
    "child_label = np.zeros( shape=[m, 1] )\n",
    "label = np.concatenate( (adult_label, child_label) )\n",
    "print('label의 shape' , label.shape)\n",
    "print(label[:10])"
   ]
  },
  {
   "cell_type": "markdown",
   "metadata": {},
   "source": [
    "## Data + Label"
   ]
  },
  {
   "cell_type": "code",
   "execution_count": 8,
   "metadata": {},
   "outputs": [
    {
     "name": "stdout",
     "output_type": "stream",
     "text": [
      "[[ 32.44779258 117.543586     0.        ]\n",
      " [ 30.85390554 122.74618139   0.        ]\n",
      " [ 69.37115213 174.80023297   1.        ]\n",
      " [ 25.27622402 122.91774528   0.        ]\n",
      " [ 75.03380257 176.20591023   1.        ]\n",
      " [ 29.08289283 123.10097975   0.        ]\n",
      " [ 72.25664742 179.01240919   1.        ]\n",
      " [ 34.72656291 121.51917882   0.        ]\n",
      " [ 74.22908862 170.34173458   1.        ]\n",
      " [ 25.03418461 118.03407253   0.        ]]\n",
      "(200, 3)\n"
     ]
    }
   ],
   "source": [
    "total_dataset = np.concatenate((adult_dataset , child_dataset))\n",
    "total_dataset = np.concatenate( (total_dataset, label), axis = 1  )\n",
    "\n",
    "np.random.shuffle(total_dataset) # Shuffle dataset\n",
    "print(total_dataset[:10])\n",
    "print(total_dataset.shape)"
   ]
  },
  {
   "cell_type": "markdown",
   "metadata": {},
   "source": [
    "## simple scaling of dataset"
   ]
  },
  {
   "cell_type": "code",
   "execution_count": 9,
   "metadata": {},
   "outputs": [],
   "source": [
    "weight_mean= total_dataset[:, 0].mean()\n",
    "height_mean= total_dataset[:, 1].mean()\n",
    "total_dataset[:, 0] /= weight_mean\n",
    "total_dataset[:, 1] /= height_mean"
   ]
  },
  {
   "cell_type": "code",
   "execution_count": 10,
   "metadata": {},
   "outputs": [
    {
     "data": {
      "image/png": "[encoded data removed]",
      "text/plain": [
       "<Figure size 432x288 with 1 Axes>"
      ]
     },
     "metadata": {
      "needs_background": "light"
     },
     "output_type": "display_data"
    }
   ],
   "source": [
    "total_dataset.shape\n",
    "\n",
    "fig = plt.figure()\n",
    "ax1 = fig.add_subplot(111)\n",
    "color = [(1*i, 1, 0) for i in total_dataset[:,2] ]\n",
    "ax1.scatter(total_dataset[:,0], total_dataset[:,1], c = color)\n",
    "plt.show()"
   ]
  },
  {
   "cell_type": "markdown",
   "metadata": {},
   "source": [
    "# Step 2. Model definition"
   ]
  },
  {
   "cell_type": "code",
   "execution_count": 93,
   "metadata": {},
   "outputs": [],
   "source": [
    "def hypothesis(x, w, b):\n",
    "    pred = np.matmul(x, w.T) + b\n",
    "    return pred"
   ]
  },
  {
   "cell_type": "code",
   "execution_count": 54,
   "metadata": {},
   "outputs": [],
   "source": [
    "def sigmoid(x):\n",
    "    return 1/(1 + np.exp(-x))"
   ]
  },
  {
   "cell_type": "code",
   "execution_count": 47,
   "metadata": {},
   "outputs": [],
   "source": [
    "def cost(x, w, b, y):\n",
    "    loss = -y*hypothesis(x, w, b) + np.log(1 + np.exp(hypothesis(x, w, b))) #-y*h(x) + log(1+exp(h(x)))\n",
    "    cost = (1/m)*np.sum(loss)\n",
    "    return cost"
   ]
  },
  {
   "cell_type": "code",
   "execution_count": 75,
   "metadata": {},
   "outputs": [],
   "source": [
    "def derivative(x, w, b, y):\n",
    "    dw = -(1/m)* np.sum( x*(y - sigmoid(hypothesis(x, w, b))) , axis = 0) # 1 x w_dim\n",
    "    db = -(1/m)* np.sum( y  - sigmoid(hypothesis(x, w, b)), axis = 0 )\n",
    "    return dw, db"
   ]
  },
  {
   "cell_type": "code",
   "execution_count": 61,
   "metadata": {},
   "outputs": [],
   "source": [
    "def update(x, w, b, y, alpha):\n",
    "    w = w - alpha*(derivative(x, w, b, y)[0]) # w := w + alpha * dw\n",
    "    b = b - alpha*(derivative(x, w, b, y)[1]) # b := b + alpha * db\n",
    "    return w, b"
   ]
  },
  {
   "cell_type": "markdown",
   "metadata": {},
   "source": [
    "# Step 3. Training model"
   ]
  },
  {
   "cell_type": "code",
   "execution_count": 76,
   "metadata": {},
   "outputs": [],
   "source": [
    "# initialization of weights and bias\n",
    "w = [[0, 0]]\n",
    "b = 0"
   ]
  },
  {
   "cell_type": "code",
   "execution_count": 130,
   "metadata": {},
   "outputs": [
    {
     "name": "stdout",
     "output_type": "stream",
     "text": [
      "cost = 2.178059992926824\n",
      "w = [[12.80235456  1.06240331]]\n",
      "b = [-13.72956826]\n",
      "\n",
      "\n",
      "cost = 2.1761903048434106\n",
      "w = [[12.80502388  1.06305112]]\n",
      "b = [-13.73290805]\n",
      "\n",
      "\n",
      "cost = 2.1743240591549577\n",
      "w = [[12.80769061  1.06369853]]\n",
      "b = [-13.73624484]\n",
      "\n",
      "\n",
      "cost = 2.1724612461440236\n",
      "w = [[12.81035475  1.06434555]]\n",
      "b = [-13.73957862]\n",
      "\n",
      "\n",
      "cost = 2.170601856130063\n",
      "w = [[12.81301631  1.06499217]]\n",
      "b = [-13.74290941]\n",
      "\n",
      "\n",
      "cost = 2.168745879469312\n",
      "w = [[12.81567529  1.06563841]]\n",
      "b = [-13.74623721]\n",
      "\n",
      "\n",
      "cost = 2.1668933065545852\n",
      "w = [[12.8183317   1.06628425]]\n",
      "b = [-13.74956202]\n",
      "\n",
      "\n",
      "cost = 2.1650441278150994\n",
      "w = [[12.82098554  1.06692969]]\n",
      "b = [-13.75288385]\n",
      "\n",
      "\n",
      "cost = 2.1631983337163123\n",
      "w = [[12.82363681  1.06757475]]\n",
      "b = [-13.75620271]\n",
      "\n",
      "\n",
      "cost = 2.1613559147597314\n",
      "w = [[12.82628553  1.06821942]]\n",
      "b = [-13.75951859]\n",
      "\n",
      "\n",
      "cost = 2.1595168614827625\n",
      "w = [[12.8289317   1.06886369]]\n",
      "b = [-13.76283152]\n",
      "\n",
      "\n",
      "cost = 2.157681164458533\n",
      "w = [[12.83157532  1.06950758]]\n",
      "b = [-13.76614149]\n",
      "\n",
      "\n",
      "cost = 2.155848814295719\n",
      "w = [[12.83421639  1.07015108]]\n",
      "b = [-13.7694485]\n",
      "\n",
      "\n",
      "cost = 2.15401980163837\n",
      "w = [[12.83685493  1.07079419]]\n",
      "b = [-13.77275257]\n",
      "\n",
      "\n",
      "cost = 2.1521941171657675\n",
      "w = [[12.83949093  1.07143691]]\n",
      "b = [-13.7760537]\n",
      "\n",
      "\n",
      "cost = 2.1503717515922265\n",
      "w = [[12.8421244   1.07207924]]\n",
      "b = [-13.77935189]\n",
      "\n",
      "\n",
      "cost = 2.148552695666946\n",
      "w = [[12.84475536  1.07272119]]\n",
      "b = [-13.78264715]\n",
      "\n",
      "\n",
      "cost = 2.146736940173837\n",
      "w = [[12.84738379  1.07336275]]\n",
      "b = [-13.78593949]\n",
      "\n",
      "\n",
      "cost = 2.144924475931398\n",
      "w = [[12.85000971  1.07400393]]\n",
      "b = [-13.7892289]\n",
      "\n",
      "\n",
      "cost = 2.143115293792475\n",
      "w = [[12.85263312  1.07464472]]\n",
      "b = [-13.79251541]\n",
      "\n",
      "\n",
      "cost = 2.141309384644174\n",
      "w = [[12.85525402  1.07528512]]\n",
      "b = [-13.795799]\n",
      "\n",
      "\n",
      "cost = 2.1395067394076555\n",
      "w = [[12.85787243  1.07592514]]\n",
      "b = [-13.79907969]\n",
      "\n",
      "\n",
      "cost = 2.137707349037977\n",
      "w = [[12.86048834  1.07656478]]\n",
      "b = [-13.80235749]\n",
      "\n",
      "\n",
      "cost = 2.135911204523986\n",
      "w = [[12.86310176  1.07720404]]\n",
      "b = [-13.80563239]\n",
      "\n",
      "\n",
      "cost = 2.1341182968880745\n",
      "w = [[12.86571269  1.07784291]]\n",
      "b = [-13.8089044]\n",
      "\n",
      "\n",
      "cost = 2.1323286171861042\n",
      "w = [[12.86832115  1.0784814 ]]\n",
      "b = [-13.81217353]\n",
      "\n",
      "\n",
      "cost = 2.1305421565071803\n",
      "w = [[12.87092713  1.07911951]]\n",
      "b = [-13.81543979]\n",
      "\n",
      "\n",
      "cost = 2.1287589059735623\n",
      "w = [[12.87353064  1.07975724]]\n",
      "b = [-13.81870317]\n",
      "\n",
      "\n",
      "cost = 2.1269788567404646\n",
      "w = [[12.87613168  1.08039459]]\n",
      "b = [-13.82196369]\n",
      "\n",
      "\n",
      "cost = 2.125201999995907\n",
      "w = [[12.87873026  1.08103156]]\n",
      "b = [-13.82522135]\n",
      "\n",
      "\n",
      "cost = 2.123428326960585\n",
      "w = [[12.88132638  1.08166815]]\n",
      "b = [-13.82847615]\n",
      "\n",
      "\n",
      "cost = 2.12165782888768\n",
      "w = [[12.88392005  1.08230436]]\n",
      "b = [-13.8317281]\n",
      "\n",
      "\n",
      "cost = 2.1198904970627632\n",
      "w = [[12.88651128  1.08294019]]\n",
      "b = [-13.83497721]\n",
      "\n",
      "\n",
      "cost = 2.118126322803575\n",
      "w = [[12.88910006  1.08357565]]\n",
      "b = [-13.83822348]\n",
      "\n",
      "\n",
      "cost = 2.1163652974599603\n",
      "w = [[12.8916864   1.08421073]]\n",
      "b = [-13.84146691]\n",
      "\n",
      "\n",
      "cost = 2.1146074124136107\n",
      "w = [[12.89427031  1.08484543]]\n",
      "b = [-13.84470751]\n",
      "\n",
      "\n",
      "cost = 2.1128526590780354\n",
      "w = [[12.89685179  1.08547976]]\n",
      "b = [-13.84794529]\n",
      "\n",
      "\n",
      "cost = 2.1111010288983287\n",
      "w = [[12.89943084  1.08611371]]\n",
      "b = [-13.85118025]\n",
      "\n",
      "\n",
      "cost = 2.109352513351049\n",
      "w = [[12.90200748  1.08674728]]\n",
      "b = [-13.85441239]\n",
      "\n",
      "\n",
      "cost = 2.1076071039440905\n",
      "w = [[12.90458169  1.08738049]]\n",
      "b = [-13.85764173]\n",
      "\n",
      "\n",
      "cost = 2.1058647922165274\n",
      "w = [[12.9071535   1.08801331]]\n",
      "b = [-13.86086826]\n",
      "\n",
      "\n",
      "cost = 2.104125569738438\n",
      "w = [[12.9097229   1.08864577]]\n",
      "b = [-13.86409199]\n",
      "\n",
      "\n",
      "cost = 2.10238942811083\n",
      "w = [[12.9122899   1.08927785]]\n",
      "b = [-13.86731293]\n",
      "\n",
      "\n",
      "cost = 2.1006563589654315\n",
      "w = [[12.9148545   1.08990956]]\n",
      "b = [-13.87053109]\n",
      "\n",
      "\n",
      "cost = 2.0989263539645933\n",
      "w = [[12.91741671  1.0905409 ]]\n",
      "b = [-13.87374645]\n",
      "\n",
      "\n",
      "cost = 2.0971994048011364\n",
      "w = [[12.91997653  1.09117186]]\n",
      "b = [-13.87695904]\n",
      "\n",
      "\n",
      "cost = 2.095475503198181\n",
      "w = [[12.92253397  1.09180246]]\n",
      "b = [-13.88016886]\n",
      "\n",
      "\n",
      "cost = 2.0937546409090566\n",
      "w = [[12.92508902  1.09243269]]\n",
      "b = [-13.8833759]\n",
      "\n",
      "\n",
      "cost = 2.0920368097171305\n",
      "w = [[12.9276417   1.09306254]]\n",
      "b = [-13.88658019]\n",
      "\n",
      "\n",
      "cost = 2.0903220014356996\n",
      "w = [[12.93019201  1.09369203]]\n",
      "b = [-13.88978171]\n",
      "\n",
      "\n",
      "cost = 2.0886102079078204\n",
      "w = [[12.93273996  1.09432115]]\n",
      "b = [-13.89298048]\n",
      "\n",
      "\n",
      "cost = 2.0869014210061794\n",
      "w = [[12.93528554  1.0949499 ]]\n",
      "b = [-13.8961765]\n",
      "\n",
      "\n",
      "cost = 2.0851956326329937\n",
      "w = [[12.93782876  1.09557828]]\n",
      "b = [-13.89936978]\n",
      "\n",
      "\n",
      "cost = 2.0834928347198156\n",
      "w = [[12.94036963  1.0962063 ]]\n",
      "b = [-13.90256032]\n",
      "\n",
      "\n",
      "cost = 2.0817930192274696\n",
      "w = [[12.94290815  1.09683394]]\n",
      "b = [-13.90574813]\n",
      "\n",
      "\n",
      "cost = 2.0800961781458414\n",
      "w = [[12.94544433  1.09746123]]\n",
      "b = [-13.9089332]\n",
      "\n",
      "\n",
      "cost = 2.0784023034938084\n",
      "w = [[12.94797817  1.09808814]]\n",
      "b = [-13.91211556]\n",
      "\n",
      "\n",
      "cost = 2.076711387319086\n",
      "w = [[12.95050967  1.0987147 ]]\n",
      "b = [-13.91529519]\n",
      "\n",
      "\n",
      "cost = 2.075023421698098\n",
      "w = [[12.95303884  1.09934088]]\n",
      "b = [-13.91847211]\n",
      "\n",
      "\n",
      "cost = 2.073338398735836\n",
      "w = [[12.95556568  1.09996671]]\n",
      "b = [-13.92164632]\n",
      "\n",
      "\n",
      "cost = 2.071656310565742\n",
      "w = [[12.9580902   1.10059217]]\n",
      "b = [-13.92481782]\n",
      "\n",
      "\n",
      "cost = 2.0699771493495716\n",
      "w = [[12.9606124   1.10121726]]\n",
      "b = [-13.92798662]\n",
      "\n",
      "\n",
      "cost = 2.068300907277286\n",
      "w = [[12.96313229  1.101842  ]]\n",
      "b = [-13.93115273]\n",
      "\n",
      "\n",
      "cost = 2.066627576566881\n",
      "w = [[12.96564987  1.10246637]]\n",
      "b = [-13.93431615]\n",
      "\n",
      "\n",
      "cost = 2.064957149464324\n",
      "w = [[12.96816514  1.10309038]]\n",
      "b = [-13.93747688]\n",
      "\n",
      "\n",
      "cost = 2.0632896182433673\n",
      "w = [[12.97067811  1.10371403]]\n",
      "b = [-13.94063494]\n",
      "\n",
      "\n",
      "cost = 2.0616249752054516\n",
      "w = [[12.97318878  1.10433732]]\n",
      "b = [-13.94379031]\n",
      "\n",
      "\n",
      "cost = 2.059963212679575\n",
      "w = [[12.97569716  1.10496025]]\n",
      "b = [-13.94694302]\n",
      "\n",
      "\n",
      "cost = 2.0583043230222016\n",
      "w = [[12.97820325  1.10558282]]\n",
      "b = [-13.95009305]\n",
      "\n",
      "\n",
      "cost = 2.0566482986170613\n",
      "w = [[12.98070705  1.10620503]]\n",
      "b = [-13.95324043]\n",
      "\n",
      "\n",
      "cost = 2.054995131875107\n",
      "w = [[12.98320857  1.10682688]]\n",
      "b = [-13.95638515]\n",
      "\n",
      "\n",
      "cost = 2.0533448152343534\n",
      "w = [[12.98570782  1.10744837]]\n",
      "b = [-13.95952721]\n",
      "\n",
      "\n",
      "cost = 2.0516973411597466\n",
      "w = [[12.9882048   1.10806951]]\n",
      "b = [-13.96266663]\n",
      "\n",
      "\n",
      "cost = 2.0500527021430726\n",
      "w = [[12.9906995   1.10869029]]\n",
      "b = [-13.96580341]\n",
      "\n",
      "\n",
      "cost = 2.0484108907028276\n",
      "w = [[12.99319195  1.10931071]]\n",
      "b = [-13.96893754]\n",
      "\n",
      "\n",
      "cost = 2.04677189938409\n",
      "w = [[12.99568213  1.10993078]]\n",
      "b = [-13.97206905]\n",
      "\n",
      "\n",
      "cost = 2.045135720758406\n",
      "w = [[12.99817005  1.11055049]]\n",
      "b = [-13.97519792]\n",
      "\n",
      "\n",
      "cost = 2.043502347423665\n",
      "w = [[13.00065573  1.11116984]]\n",
      "b = [-13.97832417]\n",
      "\n",
      "\n",
      "cost = 2.041871772004\n",
      "w = [[13.00313916  1.11178884]]\n",
      "b = [-13.9814478]\n",
      "\n",
      "\n",
      "cost = 2.040243987149645\n",
      "w = [[13.00562034  1.11240749]]\n",
      "b = [-13.98456881]\n",
      "\n",
      "\n",
      "cost = 2.038618985536851\n",
      "w = [[13.00809928  1.11302578]]\n",
      "b = [-13.98768721]\n",
      "\n",
      "\n",
      "cost = 2.0369967598677454\n",
      "w = [[13.01057599  1.11364372]]\n",
      "b = [-13.99080301]\n",
      "\n",
      "\n",
      "cost = 2.035377302870224\n",
      "w = [[13.01305047  1.11426131]]\n",
      "b = [-13.9939162]\n",
      "\n",
      "\n",
      "cost = 2.0337606072978414\n",
      "w = [[13.01552272  1.11487854]]\n",
      "b = [-13.9970268]\n",
      "\n",
      "\n",
      "cost = 2.032146665929682\n",
      "w = [[13.01799274  1.11549543]]\n",
      "b = [-14.0001348]\n",
      "\n",
      "\n",
      "cost = 2.030535471570274\n",
      "w = [[13.02046055  1.11611196]]\n",
      "b = [-14.00324021]\n",
      "\n",
      "\n",
      "cost = 2.0289270170494436\n",
      "w = [[13.02292614  1.11672814]]\n",
      "b = [-14.00634304]\n",
      "\n",
      "\n",
      "cost = 2.0273212952222357\n",
      "w = [[13.02538952  1.11734397]]\n",
      "b = [-14.0094433]\n",
      "\n",
      "\n",
      "cost = 2.0257182989687745\n",
      "w = [[13.02785069  1.11795945]]\n",
      "b = [-14.01254097]\n",
      "\n",
      "\n",
      "cost = 2.024118021194193\n",
      "w = [[13.03030966  1.11857458]]\n",
      "b = [-14.01563608]\n",
      "\n",
      "\n",
      "cost = 2.0225204548284528\n",
      "w = [[13.03276643  1.11918936]]\n",
      "b = [-14.01872862]\n",
      "\n",
      "\n",
      "cost = 2.0209255928263072\n",
      "w = [[13.03522101  1.11980379]]\n",
      "b = [-14.0218186]\n",
      "\n",
      "\n",
      "cost = 2.019333428167159\n",
      "w = [[13.03767339  1.12041788]]\n",
      "b = [-14.02490602]\n",
      "\n",
      "\n",
      "cost = 2.0177439538549438\n",
      "w = [[13.04012358  1.12103161]]\n",
      "b = [-14.02799089]\n",
      "\n",
      "\n",
      "cost = 2.0161571629180406\n",
      "w = [[13.04257159  1.121645  ]]\n",
      "b = [-14.03107322]\n",
      "\n",
      "\n",
      "cost = 2.014573048409165\n",
      "w = [[13.04501742  1.12225805]]\n",
      "b = [-14.03415299]\n",
      "\n",
      "\n",
      "cost = 2.0129916034052426\n",
      "w = [[13.04746108  1.12287075]]\n",
      "b = [-14.03723023]\n",
      "\n",
      "\n",
      "cost = 2.0114128210073234\n",
      "w = [[13.04990256  1.1234831 ]]\n",
      "b = [-14.04030494]\n",
      "\n",
      "\n",
      "cost = 2.0098366943404606\n",
      "w = [[13.05234187  1.1240951 ]]\n",
      "b = [-14.04337711]\n",
      "\n",
      "\n",
      "cost = 2.0082632165536314\n",
      "w = [[13.05477902  1.12470677]]\n",
      "b = [-14.04644676]\n",
      "\n",
      "\n"
     ]
    }
   ],
   "source": [
    "for i in range(10000):\n",
    "    w, b = update(x, w, b, y, alpha=0.01)\n",
    "    if i % 100 == 0:\n",
    "        print ('cost =',cost(x, w, b, y))\n",
    "        print ('w =',w)\n",
    "        print ('b =',b)\n",
    "        print ('\\n')"
   ]
  },
  {
   "cell_type": "code",
   "execution_count": 131,
   "metadata": {},
   "outputs": [
    {
     "data": {
      "image/png": "[encoded data removed]",
      "text/plain": [
       "<Figure size 432x288 with 1 Axes>"
      ]
     },
     "metadata": {
      "needs_background": "light"
     },
     "output_type": "display_data"
    }
   ],
   "source": [
    "fig = plt.figure()\n",
    "ax1 = fig.add_subplot(111)\n",
    "color = [(1*i, 1, 0) for i in total_dataset[:,2] ]\n",
    "ax1.scatter(total_dataset[:,0], total_dataset[:,1], c = color)\n",
    "\n",
    "\n",
    "p1 = np.array([0, -b/w[0, 1]])\n",
    "p2 = np.array([-b/w[0, 0], 0])\n",
    "coefficients = np.polyfit([p1[0], p2[0]], [p1[1], p2[1]], 1) \n",
    "polynomial = np.poly1d(coefficients)\n",
    "x_axis = np.linspace(0.5, 1.5)\n",
    "y_axis = polynomial(x_axis)\n",
    "ax1.set_ylim(0.5, 1.5)\n",
    "ax1.plot(x_axis, y_axis)\n",
    "\n",
    "plt.show()\n"
   ]
  },
  {
   "cell_type": "code",
   "execution_count": null,
   "metadata": {},
   "outputs": [],
   "source": []
  }
 ],
 "metadata": {
  "kernelspec": {
   "display_name": "tf",
   "language": "python",
   "name": "tf"
  },
  "language_info": {
   "codemirror_mode": {
    "name": "ipython",
    "version": 3
   },
   "file_extension": ".py",
   "mimetype": "text/x-python",
   "name": "python",
   "nbconvert_exporter": "python",
   "pygments_lexer": "ipython3",
   "version": "3.6.6"
  }
 },
 "nbformat": 4,
 "nbformat_minor": 2
}
