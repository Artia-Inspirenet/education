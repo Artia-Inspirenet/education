{
 "cells": [
  {
   "cell_type": "markdown",
   "metadata": {},
   "source": [
    "### 모듈 : 함수, 변수, 클래스 들을 모아 놓은 파일 (.py)"
   ]
  },
  {
   "cell_type": "raw",
   "metadata": {},
   "source": [
    "if __name__ == \"__main__\":\n",
    "    해당 파일을 직접 실행할 경우에만 실행(즉, import 될 경우, 이 부분은 실행 안됨)"
   ]
  },
  {
   "cell_type": "markdown",
   "metadata": {},
   "source": [
    "### 패키지 : 디렉토리 + 모듈"
   ]
  },
  {
   "cell_type": "raw",
   "metadata": {},
   "source": [
    "__init__.py : 해당 디렉토리가 패키지의 일부임을 명시"
   ]
  },
  {
   "cell_type": "markdown",
   "metadata": {},
   "source": [
    "### sys 모듈"
   ]
  },
  {
   "cell_type": "code",
   "execution_count": 1,
   "metadata": {},
   "outputs": [
    {
     "data": {
      "text/plain": [
       "['',\n",
       " '/home/damian/.virtualenvs/tf/lib/python36.zip',\n",
       " '/home/damian/.virtualenvs/tf/lib/python3.6',\n",
       " '/home/damian/.virtualenvs/tf/lib/python3.6/lib-dynload',\n",
       " '/usr/lib/python3.6',\n",
       " '/home/damian/.virtualenvs/tf/lib/python3.6/site-packages',\n",
       " '/home/damian/.virtualenvs/tf/lib/python3.6/site-packages/tf_pose-0.1.1-py3.6-linux-x86_64.egg',\n",
       " '/home/damian/.virtualenvs/tf/lib/python3.6/site-packages/dill-0.2.7.1-py3.6.egg',\n",
       " '/home/damian/.virtualenvs/tf/lib/python3.6/site-packages/pycocotools-2.0-py3.6-linux-x86_64.egg',\n",
       " '/home/damian/.virtualenvs/tf/lib/python3.6/site-packages',\n",
       " '/home/damian/.virtualenvs/tf/lib/python3.6/site-packages/IPython/extensions',\n",
       " '/home/damian/.ipython']"
      ]
     },
     "execution_count": 1,
     "metadata": {},
     "output_type": "execute_result"
    }
   ],
   "source": [
    "import sys\n",
    "sys.path # 파이썬 모듈들이 저장된 위치"
   ]
  },
  {
   "cell_type": "raw",
   "metadata": {},
   "source": [
    "sys.path.append(\"내가 만든 모듈이 있는 디렉토리\") : 디렉토리 추가"
   ]
  },
  {
   "cell_type": "markdown",
   "metadata": {},
   "source": [
    "### os 모듈"
   ]
  },
  {
   "cell_type": "code",
   "execution_count": 2,
   "metadata": {},
   "outputs": [
    {
     "data": {
      "text/plain": [
       "'/home/damian'"
      ]
     },
     "execution_count": 2,
     "metadata": {},
     "output_type": "execute_result"
    }
   ],
   "source": [
    "import os\n",
    "os.getcwd() # 현재 디렉토리 확인"
   ]
  },
  {
   "cell_type": "raw",
   "metadata": {},
   "source": [
    "os.environ : 시스템 환경 변수 확인\n",
    " \n",
    "os.listdir(\"특정 디렉토리\") : 특정 디렉토리에 있는 모든 파일\n",
    "\n",
    "os.path.dirname(os.path.abspath(__file__)) : 해당 파일이 존재하는 디렉토리"
   ]
  },
  {
   "cell_type": "markdown",
   "metadata": {},
   "source": [
    "### time 모듈"
   ]
  },
  {
   "cell_type": "code",
   "execution_count": 3,
   "metadata": {},
   "outputs": [
    {
     "data": {
      "text/plain": [
       "'Fri Oct 26 14:33:59 2018'"
      ]
     },
     "execution_count": 3,
     "metadata": {},
     "output_type": "execute_result"
    }
   ],
   "source": [
    "import time\n",
    "time.strftime('%c', time.localtime(time.time()))"
   ]
  }
 ],
 "metadata": {
  "kernelspec": {
   "display_name": "tf",
   "language": "python",
   "name": "tf"
  },
  "language_info": {
   "codemirror_mode": {
    "name": "ipython",
    "version": 3
   },
   "file_extension": ".py",
   "mimetype": "text/x-python",
   "name": "python",
   "nbconvert_exporter": "python",
   "pygments_lexer": "ipython3",
   "version": "3.6.5"
  }
 },
 "nbformat": 4,
 "nbformat_minor": 2
}
