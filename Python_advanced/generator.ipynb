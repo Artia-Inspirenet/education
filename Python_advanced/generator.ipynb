{
 "cells": [
  {
   "cell_type": "markdown",
   "metadata": {},
   "source": [
    "### Generator : Iterator 를 생성해주는 function"
   ]
  },
  {
   "cell_type": "raw",
   "metadata": {},
   "source": [
    "Iterable 의 의미는 member를 하나씩 차례로 반환 가능한 object 이다. \n",
    "    ex) list, string, tuple\n",
    "Iterator 는 next() 메소드로 데이터를 순차적으로 호출 가능한 object 이다.\n",
    "    Q) Iterable한 object들은 Iterator 인가? \n",
    "    A) No! \n",
    "    next(list) : error \n",
    "    iter(list) : list -> list_iterator\n",
    "yield 를 만나면 값을 반환 후 함수가 정지되며 메모리에 유지 - 데이터 지속 사용 가능 \n",
    "loop 문에 의해 generator 함수가 재호출 시 yield 이후 구문부터 실행"
   ]
  },
  {
   "cell_type": "code",
   "execution_count": 1,
   "metadata": {},
   "outputs": [],
   "source": [
    "import sys"
   ]
  },
  {
   "cell_type": "code",
   "execution_count": 6,
   "metadata": {},
   "outputs": [
    {
     "name": "stdout",
     "output_type": "stream",
     "text": [
      "0\n",
      "1\n",
      "2\n",
      "3\n",
      "4\n"
     ]
    }
   ],
   "source": [
    "def generator(n):\n",
    "    i = 0\n",
    "    while i < n:\n",
    "        yield i\n",
    "        i += 1\n",
    "        \n",
    "for x in generator(5):\n",
    "    print (x)"
   ]
  },
  {
   "cell_type": "code",
   "execution_count": null,
   "metadata": {},
   "outputs": [],
   "source": []
  },
  {
   "cell_type": "code",
   "execution_count": 8,
   "metadata": {},
   "outputs": [],
   "source": [
    "def square_numbers1(nums):\n",
    "    result = []\n",
    "    for i in nums:\n",
    "        result.append(i * i)\n",
    "    return result"
   ]
  },
  {
   "cell_type": "code",
   "execution_count": 9,
   "metadata": {},
   "outputs": [
    {
     "name": "stdout",
     "output_type": "stream",
     "text": [
      "8697464\n"
     ]
    }
   ],
   "source": [
    "# 일반 함수 : 리턴할 모든 값을 메모리에 저장\n",
    "my_nums = square_numbers1(list(range(1000000)))\n",
    "print (sys.getsizeof(my_nums))"
   ]
  },
  {
   "cell_type": "code",
   "execution_count": 10,
   "metadata": {},
   "outputs": [],
   "source": [
    "def square_numbers2(nums):\n",
    "    for i in nums:\n",
    "        yield i * i"
   ]
  },
  {
   "cell_type": "code",
   "execution_count": 11,
   "metadata": {},
   "outputs": [
    {
     "name": "stdout",
     "output_type": "stream",
     "text": [
      "88\n"
     ]
    }
   ],
   "source": [
    "# 제너레이터 : 한 번 호출 시 하나의 값만을 전달\n",
    "my_nums = square_numbers2(list(range(1000000)))\n",
    "print (sys.getsizeof(my_nums))"
   ]
  }
 ],
 "metadata": {
  "kernelspec": {
   "display_name": "tf",
   "language": "python",
   "name": "tf"
  },
  "language_info": {
   "codemirror_mode": {
    "name": "ipython",
    "version": 3
   },
   "file_extension": ".py",
   "mimetype": "text/x-python",
   "name": "python",
   "nbconvert_exporter": "python",
   "pygments_lexer": "ipython3",
   "version": "3.5.2"
  }
 },
 "nbformat": 4,
 "nbformat_minor": 2
}
