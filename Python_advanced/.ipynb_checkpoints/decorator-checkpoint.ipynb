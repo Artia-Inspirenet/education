{
 "cells": [
  {
   "cell_type": "markdown",
   "metadata": {},
   "source": [
    "### Decorator : 대상 함수를 wrapping하고, 추가 기능 구현하고 싶을 때"
   ]
  },
  {
   "cell_type": "raw",
   "metadata": {},
   "source": [
    "@ 파이썬 - First Class Function \n",
    "1. 함수를 변수에 할당 가능"
   ]
  },
  {
   "cell_type": "code",
   "execution_count": 1,
   "metadata": {},
   "outputs": [
    {
     "data": {
      "text/plain": [
       "25"
      ]
     },
     "execution_count": 1,
     "metadata": {},
     "output_type": "execute_result"
    }
   ],
   "source": [
    "def square(x) :\n",
    "    return x * x\n",
    "\n",
    "func = square\n",
    "func(5)"
   ]
  },
  {
   "cell_type": "raw",
   "metadata": {},
   "source": [
    "2. 함수를 함수의 인자로 전달 가능"
   ]
  },
  {
   "cell_type": "code",
   "execution_count": 2,
   "metadata": {},
   "outputs": [
    {
     "data": {
      "text/plain": [
       "[1, 4, 9]"
      ]
     },
     "execution_count": 2,
     "metadata": {},
     "output_type": "execute_result"
    }
   ],
   "source": [
    "def my_func(func, arg_list):\n",
    "    result = []\n",
    "    for i in arg_list:\n",
    "        result.append(func(i))\n",
    "    return result    \n",
    "\n",
    "my_func(square, [1,2,3])"
   ]
  },
  {
   "cell_type": "raw",
   "metadata": {},
   "source": [
    "3. 함수를 다른 함수 내에서 정의 가능 & 함수의 결과값을 다른 함수로 리턴 가"
   ]
  },
  {
   "cell_type": "code",
   "execution_count": 3,
   "metadata": {},
   "outputs": [
    {
     "name": "stdout",
     "output_type": "stream",
     "text": [
      "Log : Hello\n"
     ]
    }
   ],
   "source": [
    "def log(msg):  \n",
    "    def log_message(): \n",
    "        print(\"Log :\", msg)  \n",
    "    return log_message\n",
    "\n",
    "result = log('Hello')\n",
    "result()"
   ]
  },
  {
   "cell_type": "raw",
   "metadata": {},
   "source": [
    "@ 클로저 내부 함수가 외부 함수의 인자를 기억하고 있음\n",
    "@ 위치 인자(*agrs)와 키워드 인자(**kwargs) \n",
    "위치 인자 : 위치에 따라 정해지는 인자 \n",
    "키워드 인자 : 이름을 가진 인자"
   ]
  },
  {
   "cell_type": "code",
   "execution_count": 4,
   "metadata": {},
   "outputs": [
    {
     "name": "stdout",
     "output_type": "stream",
     "text": [
      "('ming', 'alice', 'tom')\n",
      "{'fourth': 'wilson', 'fifth': 'roy'}\n"
     ]
    }
   ],
   "source": [
    "def save_ranking(*args, **kwargs):\n",
    "    print (args)\n",
    "    print (kwargs)\n",
    "\n",
    "save_ranking('ming', 'alice', 'tom', fourth='wilson', fifth='roy')"
   ]
  },
  {
   "cell_type": "code",
   "execution_count": 5,
   "metadata": {},
   "outputs": [],
   "source": [
    "def display_1():\n",
    "    print ('display_1 함수가 실행중입니다.')\n",
    "    \n",
    "def display_2(num, process):\n",
    "    print ('display_{0} 함수가 {1}입니다.'.format(num, process))"
   ]
  },
  {
   "cell_type": "code",
   "execution_count": 6,
   "metadata": {},
   "outputs": [
    {
     "name": "stdout",
     "output_type": "stream",
     "text": [
      "display_1함수가 실행되기전입니다.\n",
      "display_1 함수가 실행중입니다.\n",
      "display_1함수가 종료되었습니다.\n",
      "display_2함수가 실행되기전입니다.\n",
      "display_2 함수가 실행중입니다.\n",
      "display_2함수가 종료되었습니다.\n"
     ]
    }
   ],
   "source": [
    "def decorator(func):\n",
    "    def wrapper(*args, **kwargs):\n",
    "        print (func.__name__ + '함수가 실행되기전입니다.')\n",
    "        func(*args, **kwargs)\n",
    "        print (func.__name__ + '함수가 종료되었습니다.')\n",
    "    return wrapper\n",
    "\n",
    "@decorator\n",
    "def display_1():\n",
    "    print ('display_1 함수가 실행중입니다.')\n",
    "    \n",
    "@decorator\n",
    "def display_2(num, process):\n",
    "    print ('display_{0} 함수가 {1}입니다.'.format(num, process))\n",
    "    \n",
    "display_1()\n",
    "display_2(2, '실행중')"
   ]
  }
 ],
 "metadata": {
  "kernelspec": {
   "display_name": "tf",
   "language": "python",
   "name": "tf"
  },
  "language_info": {
   "codemirror_mode": {
    "name": "ipython",
    "version": 3
   },
   "file_extension": ".py",
   "mimetype": "text/x-python",
   "name": "python",
   "nbconvert_exporter": "python",
   "pygments_lexer": "ipython3",
   "version": "3.6.5"
  }
 },
 "nbformat": 4,
 "nbformat_minor": 2
}
