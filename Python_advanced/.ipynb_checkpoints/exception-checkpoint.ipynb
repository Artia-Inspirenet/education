{
 "cells": [
  {
   "cell_type": "markdown",
   "metadata": {},
   "source": [
    "### 예외처리"
   ]
  },
  {
   "cell_type": "code",
   "execution_count": 1,
   "metadata": {},
   "outputs": [],
   "source": [
    "class NegativeDivisionError(Exception): \n",
    "    def __init__(self, msg): # 생성자\n",
    "        self.msg = msg\n",
    "    \n",
    "    def __str__(self): # 객체를 print 하면 호출\n",
    "        return self.msg"
   ]
  },
  {
   "cell_type": "code",
   "execution_count": 2,
   "metadata": {},
   "outputs": [],
   "source": [
    "# raise 를 이용해 예외를 발생\n",
    "def divide(x, y):\n",
    "    if x < 0 or y < 0:\n",
    "        raise NegativeDivisionError('disivion by negative')\n",
    "    return x / y"
   ]
  },
  {
   "cell_type": "code",
   "execution_count": 3,
   "metadata": {},
   "outputs": [
    {
     "name": "stdout",
     "output_type": "stream",
     "text": [
      "result is 2.0\n",
      "always printed\n"
     ]
    }
   ],
   "source": [
    "# 예외 발생하지 않으므로 else 문과 finally 문이 실행\n",
    "try:\n",
    "    result = divide(4, 2)\n",
    "except ZeroDivisionError:\n",
    "    print ('division by zero')\n",
    "except NegativeDivisionError as e:\n",
    "    print (e)\n",
    "else:\n",
    "    print ('result is', result)\n",
    "finally:\n",
    "    print ('always printed')"
   ]
  },
  {
   "cell_type": "code",
   "execution_count": 4,
   "metadata": {},
   "outputs": [
    {
     "name": "stdout",
     "output_type": "stream",
     "text": [
      "division by zero\n",
      "always printed\n"
     ]
    }
   ],
   "source": [
    "# try의 첫 번째 블록에서 예외 발생하므로 해당 예외와 finally 문이 실행\n",
    "try:\n",
    "    result = divide(4, 0)\n",
    "    result = divide(4,-1)\n",
    "except ZeroDivisionError:\n",
    "    print ('division by zero')\n",
    "except NegativeDivisionError as e:\n",
    "    print (e)\n",
    "else:\n",
    "    print ('result is', result)\n",
    "finally:\n",
    "    print ('always printed')"
   ]
  },
  {
   "cell_type": "code",
   "execution_count": 5,
   "metadata": {},
   "outputs": [
    {
     "name": "stdout",
     "output_type": "stream",
     "text": [
      "disivion by negative\n",
      "always printed\n"
     ]
    }
   ],
   "source": [
    "# try의 첫 번째 블록에서 예외 발생하므로 해당 예외와 finally 문이 실행\n",
    "try:\n",
    "    result = divide(4,-1)\n",
    "    result = divide(4, 2)\n",
    "except ZeroDivisionError:\n",
    "    print ('division by zero')\n",
    "except NegativeDivisionError as e:\n",
    "    print (e)\n",
    "else:\n",
    "    print ('result is', result)\n",
    "finally:\n",
    "    print ('always printed')"
   ]
  }
 ],
 "metadata": {
  "kernelspec": {
   "display_name": "tf",
   "language": "python",
   "name": "tf"
  },
  "language_info": {
   "codemirror_mode": {
    "name": "ipython",
    "version": 3
   },
   "file_extension": ".py",
   "mimetype": "text/x-python",
   "name": "python",
   "nbconvert_exporter": "python",
   "pygments_lexer": "ipython3",
   "version": "3.6.5"
  }
 },
 "nbformat": 4,
 "nbformat_minor": 2
}
